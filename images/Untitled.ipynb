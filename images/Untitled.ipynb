{
 "cells": [
  {
   "cell_type": "code",
   "execution_count": 48,
   "metadata": {},
   "outputs": [],
   "source": [
    "import os\n",
    "import cv2\n",
    "import random"
   ]
  },
  {
   "cell_type": "code",
   "execution_count": 49,
   "metadata": {},
   "outputs": [
    {
     "data": {
      "text/plain": [
       "'C:\\\\Users\\\\hp\\\\Desktop\\\\Face_Recognition'"
      ]
     },
     "execution_count": 49,
     "metadata": {},
     "output_type": "execute_result"
    }
   ],
   "source": [
    "current_dir = os.getcwd()\n",
    "current_dir"
   ]
  },
  {
   "cell_type": "code",
   "execution_count": 50,
   "metadata": {},
   "outputs": [],
   "source": [
    "folder = os.listdir(current_dir+'/'+'dataset')"
   ]
  },
  {
   "cell_type": "code",
   "execution_count": 51,
   "metadata": {},
   "outputs": [
    {
     "data": {
      "text/plain": [
       "['jinping', 'kim_jong_un', 'modi', 'putin', 'trump']"
      ]
     },
     "execution_count": 51,
     "metadata": {},
     "output_type": "execute_result"
    }
   ],
   "source": [
    "folder"
   ]
  },
  {
   "cell_type": "code",
   "execution_count": 44,
   "metadata": {},
   "outputs": [],
   "source": [
    "\n",
    "\n",
    "# Importing Image module from PIL package \n",
    "from PIL import Image \n",
    "import PIL \n",
    "\n",
    "# creating a image object (main image) \n",
    "im1 = Image.open(current_dir + '/dataset/modi/'+\"ab82c7d29c.jpg\") \n",
    "\n",
    "# save a image using extension \n",
    "im1 = im1.save(\"geeks.jpg\") \n"
   ]
  },
  {
   "cell_type": "code",
   "execution_count": 45,
   "metadata": {},
   "outputs": [],
   "source": [
    "def create_train_test_split(label_folder):\n",
    "    os.mkdir('training/'+ label_folder )\n",
    "    os.mkdir('testing/' + label_folder)\n",
    "    img_file_list = []\n",
    "    img_file_list = os.listdir('dataset/'+ label_folder)\n",
    "    #print(img_file_list)\n",
    "    \n",
    "    img_count = 0\n",
    "    img_count = len(img_file_list)\n",
    "    print(img_count)\n",
    "    \n",
    "    # taking 20% percentage of images into testing\n",
    "    twenty_percentage = 0\n",
    "    twenty_percentage = int((img_count/100)*20)\n",
    "    print(twenty_percentage)\n",
    "\n",
    "    \n",
    "    test_data = []\n",
    "    # taking random images from label folder without replacement\n",
    "    test_data = random.sample(img_file_list, twenty_percentage)\n",
    "    print(len(test_data))\n",
    "    #print(test_data)\n",
    "    \n",
    "    \n",
    "    \n",
    "    for image_file in test_data:\n",
    "        # reading image from label folder\n",
    "        img = Image.open('dataset/'+label_folder+'/'+image_file)\n",
    "\n",
    "        # writing image into testing data folder\n",
    "        status = img.save('testing/'+ label_folder + '/'+ image_file)\n",
    "\n",
    "        print('test data status ' + str(status))\n",
    "\n",
    "        # removing written image from img_file_list for future safe coding\n",
    "        img_file_list.remove(image_file)\n",
    "\n",
    "    \n",
    "    # now taking random images (10%) from label folder without replcament\n",
    "    ten_percentage = int(twenty_percentage / 2)\n",
    "    print(ten_percentage)\n",
    "    \n",
    "    \n",
    "    prediction_data = []\n",
    "    prediction_data = random.sample(img_file_list, ten_percentage)\n",
    "    \n",
    "    #print(prediction_data)\n",
    "    print(len(prediction_data))\n",
    "    \n",
    "    \n",
    "    \n",
    "    cnt = 0  \n",
    "    for image_file in prediction_data :\n",
    "        # reading image from label folder\n",
    "        cnt+=1\n",
    "        img = Image.open('dataset/'+label_folder+'/'+image_file)\n",
    "        \n",
    "        # generate random number\n",
    "        num1 = random.randint(0,5000)\n",
    "        num2 = random.randint(0,5000)\n",
    "        # writing image into testing data folder\n",
    "        status = img.save('predictions/'+ str(num1)+'-'+str(num2) + image_file)\n",
    "        \n",
    "        print('prediction data status ' + str(status))\n",
    "        \n",
    "        # removing written image from img_file_list for future safe coding\n",
    "        img_file_list.remove(image_file)\n",
    "        \n",
    "    print(cnt)\n",
    "    \n",
    "    print(len(img_file_list))\n",
    "    \n",
    "    \n",
    "    cnt = 0\n",
    "    while(len(img_file_list)!=0):\n",
    "        \n",
    "        for image_file in img_file_list :\n",
    "            cnt+=1\n",
    "            # reading image from label folder\n",
    "            img = Image.open('dataset/'+label_folder+'/'+image_file)\n",
    "\n",
    "            # writing image into testing data folder\n",
    "            status = img.save('training/'+ label_folder + '/'+ image_file)\n",
    "\n",
    "            print('training data status ' + str(status))\n",
    "\n",
    "            img_file_list.remove(image_file)\n",
    "\n",
    "    print(cnt)"
   ]
  },
  {
   "cell_type": "code",
   "execution_count": 47,
   "metadata": {},
   "outputs": [
    {
     "name": "stdout",
     "output_type": "stream",
     "text": [
      "jinping\n",
      "['01001ce635.jpg', '102439ed0e.jpg', '159aa3ec77.jpg', '160d74cf5b.jpg', '16c5d3d555.jpg', '18bc53b652.jpg', '1aa46674a0.jpg', '22a9c1a9e4.jpg', '33be8648e2.jpg', '3f095d90c0.jpg', '400a6fb9f7.jpg', '4037c1ef14.jpg', '49d9f9e663.jpg', '5228c02bf7.jpg', '5335611849.jpg', '59be4f9b3b.jpg', '5a5555be3e.jpg', '5abc91232c.jpg', '5cff88c8b2.jpg', '5ecfa0b430.jpg', '6335ea1757.jpg', '635932c1fa.jpg', '6a60242050.jpg', '6fdd9e060f.jpg', '73a4b025b2.jpg', '850e67e912.jpg', '8ae1f4f70c.jpg', '90f21c77e3.jpg', '912e4bd9c8.jpg', '935b813b26.jpg', '93fa4c42df.jpg', '946d592ea1.jpg', '98da7cfbd7.jpg', '9e591980b0.jpg', 'aad15a0d9a.jpg', 'ad636e791f.jpg', 'adc37ddcc3.jpg', 'afe43eb658.jpg', 'b7e7f559f9.jpg', 'b82dee08a8.jpg', 'ba436ae6c3.jpg', 'bc39375dda.jpg', 'bc4048ad95.jpg', 'c27ea15bf4.jpg', 'c3ff70715f.jpg', 'd1a8522723.jpg', 'df90d552fc.jpg', 'e0c333d0d1.jpg', 'ea6b603ad1.jpg', 'ec0d9a6b07.jpg', 'f0320da80c.jpg', 'f0ae03db5c.jpg', 'f915ca766d.jpg', 'fa8347ac9f.jpg', 'faf2f7aaa6.jpg']\n",
      "55\n",
      "training data status True\n",
      "training data status True\n",
      "training data status True\n",
      "training data status True\n",
      "training data status True\n",
      "training data status True\n",
      "training data status True\n",
      "training data status True\n",
      "training data status True\n",
      "training data status True\n",
      "training data status True\n",
      "training data status True\n",
      "training data status True\n",
      "training data status True\n",
      "training data status True\n",
      "training data status True\n",
      "training data status True\n",
      "training data status True\n",
      "training data status True\n",
      "training data status True\n",
      "training data status True\n",
      "training data status True\n",
      "training data status True\n",
      "training data status True\n",
      "training data status True\n",
      "training data status True\n",
      "training data status True\n",
      "training data status True\n"
     ]
    }
   ],
   "source": [
    "\n",
    "icnt = 0 \n",
    "\n",
    "for label_folder in os.listdir('dataset'):\n",
    "    os.mkdir('training/'+ label_folder )\n",
    "    os.mkdir('testing/' + label_folder)\n",
    "    icnt+= 1\n",
    "    print(label_folder)\n",
    "    # creating label folder in training data folder\n",
    "    #os.mkdir('training/'+label_folder)\n",
    "    # creating label folder in testing data folder\n",
    "    #os.mkdir('testing/'+label_folder)\n",
    "    \n",
    "    # reading all images from label_folder\n",
    "    img_file_list = os.listdir('dataset/'+ label_folder)\n",
    "    print(img_file_list)\n",
    "    \n",
    "    # count number of images in label folder\n",
    "    img_count = len(img_file_list)\n",
    "    print(img_count)\n",
    "    \n",
    "    # taking 20% percentage of images into testing\n",
    "    twenty_percentage = int(img_count/100)*20\n",
    "    \n",
    "    # taking random images from label folder without replacement\n",
    "    test_data = random.sample(img_file_list, twenty_percentage)\n",
    "    \n",
    "    for image_file in test_data:\n",
    "        # reading image from label folder\n",
    "        img = cv2.imread('dataset/'+label_folder+'/'+image_file)\n",
    "        \n",
    "        # writing image into testing data folder\n",
    "        status = cv2.imwrite('testing/'+ label_folder + '/'+ image_file, img)\n",
    "        \n",
    "        print('test data status ' + str(status))\n",
    "        \n",
    "        # removing written image from img_file_list for future safe coding\n",
    "        img_file_list.remove(image_file)\n",
    "        \n",
    "        \n",
    "    \n",
    "    # now taking random images (10%) from label folder without replcament\n",
    "    ten_percentage = int(twenty_percentage / 2)\n",
    "    \n",
    "    prediction_data = random.sample(img_file_list, ten_percentage)\n",
    "    \n",
    "    for image_file in prediction_data :\n",
    "        # reading image from label folder\n",
    "        img = cv2.imread('dataset/'+label_folder+'/'+image_file)\n",
    "        \n",
    "        # generate random number\n",
    "        num1 = random.randint(0,5000)\n",
    "        num2 = random.randint(0,5000)\n",
    "        \n",
    "        # writing image into testing data folder\n",
    "        status = cv2.imwrite('predictions/'+ str(num1)+'-'+str(num2)+\"_\" + label_folder + \"_\" + image_file, img)\n",
    "        \n",
    "        print('prediction data status ' + str(status))\n",
    "        \n",
    "        # removing written image from img_file_list for future safe coding\n",
    "        img_file_list.remove(image_file)\n",
    "        \n",
    "        \n",
    "    # now remaining all images in img_file_list are write into training data folder (70%)\n",
    "    \n",
    "    for image_file in img_file_list :\n",
    "        # reading image from label folder\n",
    "        img = cv2.imread('dataset/'+label_folder+'/'+image_file)\n",
    "        \n",
    "        # writing image into testing data folder\n",
    "        status = cv2.imwrite('training/'+ label_folder + '/'+ image_file, img)\n",
    "        \n",
    "        print('training data status ' + str(status))\n",
    "        \n",
    "        img_file_list.remove(image_file)\n",
    "        \n",
    "    \n",
    "    if icnt == 1 :\n",
    "        break\n",
    "        \n",
    "    \n",
    "    #test_data = []\n",
    "    #prediction_data = []\n",
    "        \n",
    "        "
   ]
  },
  {
   "cell_type": "code",
   "execution_count": 46,
   "metadata": {},
   "outputs": [
    {
     "name": "stdout",
     "output_type": "stream",
     "text": [
      "jinping\n"
     ]
    },
    {
     "data": {
      "application/javascript": [
       "\n",
       "        if (window._pyforest_update_imports_cell) { window._pyforest_update_imports_cell('from sklearn.model_selection import train_test_split'); }\n",
       "    "
      ],
      "text/plain": [
       "<IPython.core.display.Javascript object>"
      ]
     },
     "metadata": {},
     "output_type": "display_data"
    },
    {
     "name": "stdout",
     "output_type": "stream",
     "text": [
      "kim_jong_un\n"
     ]
    },
    {
     "data": {
      "application/javascript": [
       "\n",
       "        if (window._pyforest_update_imports_cell) { window._pyforest_update_imports_cell('from sklearn.model_selection import train_test_split'); }\n",
       "    "
      ],
      "text/plain": [
       "<IPython.core.display.Javascript object>"
      ]
     },
     "metadata": {},
     "output_type": "display_data"
    },
    {
     "name": "stdout",
     "output_type": "stream",
     "text": [
      "modi\n"
     ]
    },
    {
     "data": {
      "application/javascript": [
       "\n",
       "        if (window._pyforest_update_imports_cell) { window._pyforest_update_imports_cell('from sklearn.model_selection import train_test_split'); }\n",
       "    "
      ],
      "text/plain": [
       "<IPython.core.display.Javascript object>"
      ]
     },
     "metadata": {},
     "output_type": "display_data"
    },
    {
     "name": "stdout",
     "output_type": "stream",
     "text": [
      "putin\n"
     ]
    },
    {
     "data": {
      "application/javascript": [
       "\n",
       "        if (window._pyforest_update_imports_cell) { window._pyforest_update_imports_cell('from sklearn.model_selection import train_test_split'); }\n",
       "    "
      ],
      "text/plain": [
       "<IPython.core.display.Javascript object>"
      ]
     },
     "metadata": {},
     "output_type": "display_data"
    },
    {
     "name": "stdout",
     "output_type": "stream",
     "text": [
      "trump\n"
     ]
    },
    {
     "data": {
      "application/javascript": [
       "\n",
       "        if (window._pyforest_update_imports_cell) { window._pyforest_update_imports_cell('from sklearn.model_selection import train_test_split'); }\n",
       "    "
      ],
      "text/plain": [
       "<IPython.core.display.Javascript object>"
      ]
     },
     "metadata": {},
     "output_type": "display_data"
    }
   ],
   "source": [
    "for label_folder in os.listdir('dataset'):\n",
    "    print(label_folder)\n",
    "    train_test_split(label_folder)\n",
    "    "
   ]
  },
  {
   "cell_type": "code",
   "execution_count": null,
   "metadata": {},
   "outputs": [],
   "source": []
  }
 ],
 "metadata": {
  "kernelspec": {
   "display_name": "Python 3",
   "language": "python",
   "name": "python3"
  },
  "language_info": {
   "codemirror_mode": {
    "name": "ipython",
    "version": 3
   },
   "file_extension": ".py",
   "mimetype": "text/x-python",
   "name": "python",
   "nbconvert_exporter": "python",
   "pygments_lexer": "ipython3",
   "version": "3.7.5"
  }
 },
 "nbformat": 4,
 "nbformat_minor": 4
}
