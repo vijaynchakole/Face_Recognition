{
 "cells": [
  {
   "cell_type": "code",
   "execution_count": 21,
   "metadata": {},
   "outputs": [],
   "source": [
    "import os\n",
    "import cv2\n",
    "import random"
   ]
  },
  {
   "cell_type": "code",
   "execution_count": 22,
   "metadata": {},
   "outputs": [
    {
     "data": {
      "text/plain": [
       "'C:\\\\Users\\\\hp\\\\Desktop\\\\Face_Recognition'"
      ]
     },
     "execution_count": 22,
     "metadata": {},
     "output_type": "execute_result"
    }
   ],
   "source": [
    "current_dir = os.getcwd()\n",
    "current_dir"
   ]
  },
  {
   "cell_type": "code",
   "execution_count": 23,
   "metadata": {},
   "outputs": [],
   "source": [
    "folder = os.listdir(current_dir+'/'+'dataset')"
   ]
  },
  {
   "cell_type": "code",
   "execution_count": 24,
   "metadata": {},
   "outputs": [
    {
     "data": {
      "text/plain": [
       "['jinping', 'kim_jong_un', 'modi', 'putin', 'trump']"
      ]
     },
     "execution_count": 24,
     "metadata": {},
     "output_type": "execute_result"
    }
   ],
   "source": [
    "folder"
   ]
  },
  {
   "cell_type": "code",
   "execution_count": 25,
   "metadata": {},
   "outputs": [],
   "source": [
    "label_folder = \"modi\"\n",
    "img_file_list = os.listdir('dataset/'+ label_folder)"
   ]
  },
  {
   "cell_type": "code",
   "execution_count": 26,
   "metadata": {},
   "outputs": [
    {
     "name": "stdout",
     "output_type": "stream",
     "text": [
      "12\n"
     ]
    }
   ],
   "source": [
    "#img_file_list\n",
    "img_count = len(img_file_list)\n",
    "twenty_percentage = int((img_count/100)*20)\n",
    "print(twenty_percentage)"
   ]
  },
  {
   "cell_type": "code",
   "execution_count": 27,
   "metadata": {},
   "outputs": [
    {
     "name": "stdout",
     "output_type": "stream",
     "text": [
      "12\n"
     ]
    }
   ],
   "source": [
    "test_data = []\n",
    "    # taking random images from label folder without replacement\n",
    "test_data = random.sample(img_file_list, twenty_percentage)\n",
    "print(len(test_data))"
   ]
  },
  {
   "cell_type": "code",
   "execution_count": 30,
   "metadata": {},
   "outputs": [
    {
     "name": "stdout",
     "output_type": "stream",
     "text": [
      "ca4451279d.jpg\n"
     ]
    },
    {
     "ename": "TypeError",
     "evalue": "Expected Ptr<cv::UMat> for argument 'mat'",
     "output_type": "error",
     "traceback": [
      "\u001b[1;31m---------------------------------------------------------------------------\u001b[0m",
      "\u001b[1;31mTypeError\u001b[0m                                 Traceback (most recent call last)",
      "\u001b[1;32m<ipython-input-30-3a86bece450c>\u001b[0m in \u001b[0;36m<module>\u001b[1;34m\u001b[0m\n\u001b[0;32m      6\u001b[0m         \u001b[0mprint\u001b[0m\u001b[1;33m(\u001b[0m\u001b[0mimage_file\u001b[0m\u001b[1;33m)\u001b[0m\u001b[1;33m\u001b[0m\u001b[1;33m\u001b[0m\u001b[0m\n\u001b[0;32m      7\u001b[0m         \u001b[1;31m# writing image into testing data folder\u001b[0m\u001b[1;33m\u001b[0m\u001b[1;33m\u001b[0m\u001b[1;33m\u001b[0m\u001b[0m\n\u001b[1;32m----> 8\u001b[1;33m         \u001b[0mcv2\u001b[0m\u001b[1;33m.\u001b[0m\u001b[0mimshow\u001b[0m\u001b[1;33m(\u001b[0m\u001b[1;34m'image'\u001b[0m\u001b[1;33m,\u001b[0m\u001b[1;34m'dataset/'\u001b[0m\u001b[1;33m+\u001b[0m\u001b[0mlabel_folder\u001b[0m\u001b[1;33m+\u001b[0m\u001b[1;34m'/'\u001b[0m\u001b[1;33m+\u001b[0m\u001b[0mimage_file\u001b[0m \u001b[1;33m)\u001b[0m\u001b[1;33m\u001b[0m\u001b[1;33m\u001b[0m\u001b[0m\n\u001b[0m\u001b[0;32m      9\u001b[0m         \u001b[0mstatus\u001b[0m \u001b[1;33m=\u001b[0m \u001b[0mcv2\u001b[0m\u001b[1;33m.\u001b[0m\u001b[0mimwrite\u001b[0m\u001b[1;33m(\u001b[0m\u001b[0mcurrent_dir\u001b[0m \u001b[1;33m+\u001b[0m \u001b[1;34m'/testing/'\u001b[0m\u001b[1;33m+\u001b[0m \u001b[0mlabel_folder\u001b[0m \u001b[1;33m+\u001b[0m \u001b[1;34m'/'\u001b[0m\u001b[1;33m+\u001b[0m \u001b[0mimage_file\u001b[0m\u001b[1;33m,\u001b[0m \u001b[0mimg\u001b[0m\u001b[1;33m)\u001b[0m\u001b[1;33m\u001b[0m\u001b[1;33m\u001b[0m\u001b[0m\n\u001b[0;32m     10\u001b[0m \u001b[1;33m\u001b[0m\u001b[0m\n",
      "\u001b[1;31mTypeError\u001b[0m: Expected Ptr<cv::UMat> for argument 'mat'"
     ]
    }
   ],
   "source": [
    "test_data\n",
    "for image_file in test_data:\n",
    "        # reading image from label folder\n",
    "        img = cv2.imread('dataset/'+label_folder+'/'+image_file)\n",
    "       # print(img)\n",
    "        print(image_file)\n",
    "        # writing image into testing data folder\n",
    "        cv2.imshow('image','dataset/'+label_folder+'/'+image_file )\n",
    "        status = cv2.imwrite(current_dir + '/testing/'+ label_folder + '/'+ image_file, img)\n",
    "\n",
    "        print('test data status ' + str(status))\n",
    "\n",
    "        # removing written image from img_file_list for future safe coding\n",
    "        #img_file_list.remove(image_file)"
   ]
  },
  {
   "cell_type": "code",
   "execution_count": 32,
   "metadata": {},
   "outputs": [],
   "source": [
    "import io\n",
    "from PIL import Image\n",
    "import hashlib\n",
    "import requests\n",
    "import os\n"
   ]
  },
  {
   "cell_type": "code",
   "execution_count": 31,
   "metadata": {},
   "outputs": [],
   "source": [
    "\n",
    "\n",
    "# Importing Image module from PIL package \n",
    "from PIL import Image \n",
    "import PIL \n",
    "\n",
    "# creating a image object (main image) \n",
    "im1 = Image.open(current_dir + '/dataset/modi/'+\"ab82c7d29c.jpg\") \n",
    "\n",
    "# save a image using extension \n",
    "im1 = im1.save(\"geeks.jpg\") \n"
   ]
  },
  {
   "cell_type": "code",
   "execution_count": null,
   "metadata": {},
   "outputs": [],
   "source": [
    "def create_train_test_split(label_folder):\n",
    "    img_file_list = []\n",
    "    img_file_list = os.listdir('images/'+ label_folder)\n",
    "    #print(img_file_list)\n",
    "    \n",
    "    img_count = 0\n",
    "    img_count = len(img_file_list)\n",
    "    print(img_count)\n",
    "    \n",
    "    # taking 20% percentage of images into testing\n",
    "    twenty_percentage = 0\n",
    "    twenty_percentage = int((img_count/100)*20)\n",
    "    print(twenty_percentage)\n",
    "\n",
    "    \n",
    "    test_data = []\n",
    "    # taking random images from label folder without replacement\n",
    "    test_data = random.sample(img_file_list, twenty_percentage)\n",
    "    print(len(test_data))\n",
    "    #print(test_data)\n",
    "    \n",
    "    \n",
    "    \n",
    "    for image_file in test_data:\n",
    "        # reading image from label folder\n",
    "        img = Image.open('images/'+label_folder+'/'+image_file)\n",
    "\n",
    "        # writing image into testing data folder\n",
    "        status = img.save('testing/'+ label_folder + '/'+ image_file)\n",
    "\n",
    "        print('test data status ' + str(status))\n",
    "\n",
    "        # removing written image from img_file_list for future safe coding\n",
    "        img_file_list.remove(image_file)\n",
    "\n",
    "    \n",
    "    # now taking random images (10%) from label folder without replcament\n",
    "    ten_percentage = int(twenty_percentage / 2)\n",
    "    print(ten_percentage)\n",
    "    \n",
    "    \n",
    "    prediction_data = []\n",
    "    prediction_data = random.sample(img_file_list, ten_percentage)\n",
    "    \n",
    "    #print(prediction_data)\n",
    "    print(len(prediction_data))\n",
    "    \n",
    "    \n",
    "    \n",
    "    cnt = 0  \n",
    "    for image_file in prediction_data :\n",
    "        # reading image from label folder\n",
    "        cnt+=1\n",
    "        img = Image.open('images/'+label_folder+'/'+image_file)\n",
    "        \n",
    "        # generate random number\n",
    "        num1 = random.randint(0,5000)\n",
    "        num2 = random.randint(0,5000)\n",
    "        # writing image into testing data folder\n",
    "        status = img.save('predictions/'+ str(num1)+'-'+str(num2) + image_file)\n",
    "        \n",
    "        print('prediction data status ' + str(status))\n",
    "        \n",
    "        # removing written image from img_file_list for future safe coding\n",
    "        img_file_list.remove(image_file)\n",
    "        \n",
    "    print(cnt)\n",
    "    \n",
    "    print(len(img_file_list))\n",
    "    \n",
    "    \n",
    "    cnt = 0\n",
    "    while(len(img_file_list)!=0):\n",
    "        \n",
    "        for image_file in img_file_list :\n",
    "            cnt+=1\n",
    "            # reading image from label folder\n",
    "            img = Image.open('images/'+label_folder+'/'+image_file)\n",
    "\n",
    "            # writing image into testing data folder\n",
    "            status = img.save('training/'+ label_folder + '/'+ image_file)\n",
    "\n",
    "            print('training data status ' + str(status))\n",
    "\n",
    "            img_file_list.remove(image_file)\n",
    "\n",
    "    print(cnt)"
   ]
  }
 ],
 "metadata": {
  "kernelspec": {
   "display_name": "Python 3",
   "language": "python",
   "name": "python3"
  },
  "language_info": {
   "codemirror_mode": {
    "name": "ipython",
    "version": 3
   },
   "file_extension": ".py",
   "mimetype": "text/x-python",
   "name": "python",
   "nbconvert_exporter": "python",
   "pygments_lexer": "ipython3",
   "version": "3.7.5"
  }
 },
 "nbformat": 4,
 "nbformat_minor": 4
}
